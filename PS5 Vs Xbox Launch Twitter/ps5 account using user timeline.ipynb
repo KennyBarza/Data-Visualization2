{
 "cells": [
  {
   "cell_type": "markdown",
   "metadata": {},
   "source": [
    "# RETRIEVING DATA FROM TWITTER"
   ]
  },
  {
   "cell_type": "code",
   "execution_count": 1,
   "metadata": {},
   "outputs": [],
   "source": [
    "# General:\n",
    "import tweepy           # To consume Twitter's API\n",
    "import pandas as pd     # To handle data\n",
    "import numpy as np      # For number computing\n",
    "\n",
    "# For plotting and visualization:\n",
    "from IPython.display import display\n",
    "import matplotlib.pyplot as plt\n",
    "import seaborn as sns\n",
    "from textblob import TextBlob\n",
    "import csv\n",
    "import mysql.connector\n",
    "\n",
    "from nltk import bigrams\n",
    "import networkx as nx\n",
    "\n",
    "from sqlalchemy import create_engine\n",
    "import pymysql"
   ]
  },
  {
   "cell_type": "code",
   "execution_count": null,
   "metadata": {},
   "outputs": [],
   "source": [
    "# Consume:\n",
    "CONSUMER_KEY    = 'XXX'\n",
    "CONSUMER_SECRET = 'XXX'\n",
    "\n",
    "# Access:\n",
    "ACCESS_TOKEN  = 'XXX-XXX'\n",
    "ACCESS_SECRET = 'XXX'"
   ]
  },
  {
   "cell_type": "code",
   "execution_count": null,
   "metadata": {},
   "outputs": [],
   "source": [
    "# API's setup:\n",
    "def twitter_setup():\n",
    "    \"\"\"\n",
    "    Utility function to setup the Twitter's API\n",
    "    with our access keys provided.\n",
    "    \"\"\"\n",
    "    # Authentication and access using keys:\n",
    "    auth = tweepy.OAuthHandler(CONSUMER_KEY, CONSUMER_SECRET)\n",
    "    auth.set_access_token(ACCESS_TOKEN, ACCESS_SECRET)\n",
    "\n",
    "    # Return API with authentication:\n",
    "    api = tweepy.API(auth)\n",
    "    return api"
   ]
  },
  {
   "cell_type": "code",
   "execution_count": null,
   "metadata": {},
   "outputs": [],
   "source": [
    "# We create an extractor object:\n",
    "extractor = twitter_setup()\n",
    "\n",
    "# We create a tweet list as follows:\n",
    "tweets = extractor.user_timeline(screen_name=\"Playstaion\", count=200)\n",
    "print(\"Number of tweets extracted: {}.\\n\".format(len(tweets)))"
   ]
  },
  {
   "cell_type": "code",
   "execution_count": null,
   "metadata": {},
   "outputs": [],
   "source": [
    "# We create a pandas dataframe as follows:\n",
    "data = pd.DataFrame(data=[tweet.text for tweet in tweets], columns=['Tweets'])\n",
    "\n",
    "# We display the first 10 elements of the dataframe:\n",
    "display(data.head(10))"
   ]
  },
  {
   "cell_type": "code",
   "execution_count": null,
   "metadata": {},
   "outputs": [],
   "source": [
    "data['len']  = np.array([len(tweet.text) for tweet in tweets])\n",
    "data['ID']   = np.array([tweet.id for tweet in tweets])\n",
    "data['Date'] = np.array([tweet.created_at for tweet in tweets])\n",
    "data['Source'] = np.array([tweet.source for tweet in tweets])\n",
    "data['Likes']  = np.array([tweet.favorite_count for tweet in tweets])\n",
    "data['RTs']    = np.array([tweet.retweet_count for tweet in tweets])"
   ]
  },
  {
   "cell_type": "markdown",
   "metadata": {},
   "source": [
    "#  CLEANING THE DATA AND ADDING NEW COLUMN"
   ]
  },
  {
   "cell_type": "code",
   "execution_count": 3,
   "metadata": {},
   "outputs": [
    {
     "ename": "NameError",
     "evalue": "name 'tweet_text' is not defined",
     "output_type": "error",
     "traceback": [
      "\u001b[1;31m---------------------------------------------------------------------------\u001b[0m",
      "\u001b[1;31mNameError\u001b[0m                                 Traceback (most recent call last)",
      "\u001b[1;32m<ipython-input-3-c32054c19513>\u001b[0m in \u001b[0;36m<module>\u001b[1;34m\u001b[0m\n\u001b[0;32m      1\u001b[0m \u001b[1;31m### SAVING DF TO CSV FILE\u001b[0m\u001b[1;33m\u001b[0m\u001b[1;33m\u001b[0m\u001b[1;33m\u001b[0m\u001b[0m\n\u001b[1;32m----> 2\u001b[1;33m \u001b[0mtweet_text\u001b[0m\u001b[1;33m.\u001b[0m\u001b[0mto_csv\u001b[0m\u001b[1;33m(\u001b[0m\u001b[1;34m\"Xbox_series_x.csv\"\u001b[0m\u001b[1;33m,\u001b[0m\u001b[0mindex\u001b[0m\u001b[1;33m=\u001b[0m\u001b[1;32mFalse\u001b[0m\u001b[1;33m)\u001b[0m\u001b[1;33m\u001b[0m\u001b[1;33m\u001b[0m\u001b[0m\n\u001b[0m",
      "\u001b[1;31mNameError\u001b[0m: name 'tweet_text' is not defined"
     ]
    }
   ],
   "source": [
    "### SAVING DF TO CSV FILE\n",
    "data.to_csv(\"User_PSV.csv\",index=False)"
   ]
  },
  {
   "cell_type": "code",
   "execution_count": 2,
   "metadata": {},
   "outputs": [
    {
     "name": "stdout",
     "output_type": "stream",
     "text": [
      "200\n"
     ]
    }
   ],
   "source": [
    "ps5 = pd.read_csv (r'C:\\Users\\keven\\Desktop\\User_PS5.csv')\n",
    "print(len(ps5))\n"
   ]
  },
  {
   "cell_type": "code",
   "execution_count": 4,
   "metadata": {},
   "outputs": [],
   "source": [
    "ps5.rename(columns={'date': 'Date','likes':'Likes','source':'Source','len':'Length'}, inplace=True)"
   ]
  },
  {
   "cell_type": "code",
   "execution_count": 5,
   "metadata": {},
   "outputs": [
    {
     "name": "stdout",
     "output_type": "stream",
     "text": [
      "<class 'pandas.core.frame.DataFrame'>\n",
      "RangeIndex: 200 entries, 0 to 199\n",
      "Data columns (total 7 columns):\n",
      "Tweets    200 non-null object\n",
      "Length    200 non-null int64\n",
      "ID        200 non-null int64\n",
      "Date      200 non-null object\n",
      "Source    200 non-null object\n",
      "Likes     200 non-null int64\n",
      "RTs       200 non-null int64\n",
      "dtypes: int64(4), object(3)\n",
      "memory usage: 11.1+ KB\n"
     ]
    }
   ],
   "source": [
    "ps5.info()"
   ]
  },
  {
   "cell_type": "code",
   "execution_count": 6,
   "metadata": {},
   "outputs": [
    {
     "name": "stdout",
     "output_type": "stream",
     "text": [
      "<class 'pandas.core.frame.DataFrame'>\n",
      "RangeIndex: 200 entries, 0 to 199\n",
      "Data columns (total 7 columns):\n",
      "Tweets    200 non-null object\n",
      "Length    200 non-null int64\n",
      "ID        200 non-null int64\n",
      "Date      200 non-null object\n",
      "Source    200 non-null object\n",
      "Likes     200 non-null int64\n",
      "RTs       200 non-null int64\n",
      "dtypes: int64(4), object(3)\n",
      "memory usage: 11.1+ KB\n"
     ]
    }
   ],
   "source": [
    "ps5.info()"
   ]
  },
  {
   "cell_type": "code",
   "execution_count": 7,
   "metadata": {},
   "outputs": [],
   "source": [
    "### DROPPIN ALL NAs AND DUPLICATES\n",
    "ps5.drop_duplicates(keep=False,inplace=True) \n"
   ]
  },
  {
   "cell_type": "code",
   "execution_count": 8,
   "metadata": {},
   "outputs": [
    {
     "name": "stdout",
     "output_type": "stream",
     "text": [
      "200\n"
     ]
    }
   ],
   "source": [
    "# No duplicate row\n",
    "print(len(ps5))"
   ]
  },
  {
   "cell_type": "code",
   "execution_count": 9,
   "metadata": {},
   "outputs": [
    {
     "name": "stdout",
     "output_type": "stream",
     "text": [
      "<class 'pandas.core.frame.DataFrame'>\n",
      "Int64Index: 200 entries, 0 to 199\n",
      "Data columns (total 7 columns):\n",
      "Tweets    200 non-null object\n",
      "Length    200 non-null int64\n",
      "ID        200 non-null int64\n",
      "Date      200 non-null object\n",
      "Source    200 non-null object\n",
      "Likes     200 non-null int64\n",
      "RTs       200 non-null int64\n",
      "dtypes: int64(4), object(3)\n",
      "memory usage: 12.5+ KB\n"
     ]
    }
   ],
   "source": [
    "#### location have a lot of missing values. lets take a deeper look####\n",
    "ps5.info()"
   ]
  },
  {
   "cell_type": "code",
   "execution_count": 10,
   "metadata": {},
   "outputs": [
    {
     "name": "stdout",
     "output_type": "stream",
     "text": [
      "                                              Tweets  Length  \\\n",
      "0  Marvel's Spider-Man: Miles Morales webbed up t...     140   \n",
      "1  It's good to have goals. It's better to make g...     123   \n",
      "2  Share of the Week bundles up for winter: https...     105   \n",
      "3  Which game had the best art direction of 2020?...     140   \n",
      "4  RT @WoWs_Legends: Prepare for the holidays in ...     140   \n",
      "\n",
      "                    ID                 Date                Source  Likes  RTs  \n",
      "0  1337594276696481792  2020-12-12 03:05:01         Sprout Social   2919  180  \n",
      "1  1337577935000268802  2020-12-12 02:00:05         Sprout Social    847   34  \n",
      "2  1337569105604472832  2020-12-12 01:25:00  Twitter Media Studio   1392   70  \n",
      "3  1337525576140255232  2020-12-11 22:32:02         Sprout Social   2483  113  \n",
      "4  1337522102421766145  2020-12-11 22:18:13       Twitter Web App      0   34  \n"
     ]
    }
   ],
   "source": [
    "#Dropping nas\n",
    "ps5.dropna(inplace=True)\n",
    "print(ps5.head())"
   ]
  },
  {
   "cell_type": "code",
   "execution_count": 11,
   "metadata": {},
   "outputs": [
    {
     "name": "stdout",
     "output_type": "stream",
     "text": [
      "<class 'pandas.core.frame.DataFrame'>\n",
      "RangeIndex: 200 entries, 0 to 199\n",
      "Data columns (total 7 columns):\n",
      "Tweets    200 non-null object\n",
      "Length    200 non-null int64\n",
      "ID        200 non-null int64\n",
      "Date      200 non-null object\n",
      "Source    200 non-null object\n",
      "Likes     200 non-null int64\n",
      "RTs       200 non-null int64\n",
      "dtypes: int64(4), object(3)\n",
      "memory usage: 11.1+ KB\n"
     ]
    }
   ],
   "source": [
    "#Reindexing\n",
    "ps5.index = range(len(ps5))\n",
    "ps5.info()"
   ]
  },
  {
   "cell_type": "code",
   "execution_count": 12,
   "metadata": {},
   "outputs": [],
   "source": [
    "### CLEANING TWEETS FUNCTION ####\n",
    "import re\n",
    "def cleanTxt(text):\n",
    "    text= re.sub(r'@[A-Za-z0-9\\_]+','',text) #Removed @mentions\n",
    "    text= re.sub(r'#','',text)#Remove the '#' symbol\n",
    "    text= re.sub(r'RT[\\s]+','',text)#Remove retweets\n",
    "    text= re.sub(r'https?:\\/\\/\\S+','',text) #Remove links\n",
    "    text= re.sub(r'ps5','',text)\n",
    "    return text"
   ]
  },
  {
   "cell_type": "code",
   "execution_count": 13,
   "metadata": {},
   "outputs": [],
   "source": [
    "#### CREATING A NEW COLUMN WHERE THE CLEANED TWEETS ARE STORED ###\n",
    "ps5['Tweets_Cleaned'] = ps5['Tweets'].apply(cleanTxt)"
   ]
  },
  {
   "cell_type": "code",
   "execution_count": 14,
   "metadata": {},
   "outputs": [],
   "source": [
    "### Remove emojis \n",
    "def remove_emojis(data):\n",
    "    emoj = re.compile(\"[\"\n",
    "        u\"\\U0001F600-\\U0001F64F\"  # emoticons\n",
    "        u\"\\U0001F300-\\U0001F5FF\"  # symbols & pictographs\n",
    "        u\"\\U0001F680-\\U0001F6FF\"  # transport & map symbols\n",
    "        u\"\\U0001F1E0-\\U0001F1FF\"  # flags (iOS)\n",
    "        u\"\\U00002500-\\U00002BEF\"  # chinese char\n",
    "        u\"\\U00002702-\\U000027B0\"\n",
    "        u\"\\U00002702-\\U000027B0\"\n",
    "        u\"\\U000024C2-\\U0001F251\"\n",
    "        u\"\\U0001f926-\\U0001f937\"\n",
    "        u\"\\U00010000-\\U0010ffff\"\n",
    "        u\"\\u2640-\\u2642\" \n",
    "        u\"\\u2600-\\u2B55\"\n",
    "        u\"\\u200d\"\n",
    "        u\"\\u23cf\"\n",
    "        u\"\\u23e9\"\n",
    "        u\"\\u231a\"\n",
    "        u\"\\ufe0f\"  # dingbats\n",
    "        u\"\\u3030\"\n",
    "                      \"]+\", re.UNICODE)\n",
    "    return re.sub(emoj, '', data)\n"
   ]
  },
  {
   "cell_type": "code",
   "execution_count": 15,
   "metadata": {},
   "outputs": [],
   "source": [
    "### CREATING A LIST THAT CONTAINS ALL THE REMOVED EMOJIS\n",
    "list2=[]\n",
    "for i in ps5.Tweets_Cleaned:\n",
    "    list2.append(remove_emojis(i))"
   ]
  },
  {
   "cell_type": "code",
   "execution_count": 17,
   "metadata": {},
   "outputs": [],
   "source": [
    "### CLEANING THE TWEETS FROM EMOJIS\n",
    "for i in range(len(ps5)):\n",
    "    ps5.loc[[i],['Tweets_Cleaned']]= list2[i]"
   ]
  },
  {
   "cell_type": "code",
   "execution_count": 20,
   "metadata": {},
   "outputs": [],
   "source": [
    "### Cleaniing the unclead tweet\n",
    "ps5.drop(['Tweets'], axis=1, inplace=True)"
   ]
  },
  {
   "cell_type": "code",
   "execution_count": 21,
   "metadata": {},
   "outputs": [
    {
     "data": {
      "text/plain": [
       "array(['Sprout Social', 'Twitter Media Studio', 'Twitter Web App',\n",
       "       'TweetDeck', 'Twitter for iPhone', 'Khoros'], dtype=object)"
      ]
     },
     "execution_count": 21,
     "metadata": {},
     "output_type": "execute_result"
    }
   ],
   "source": [
    "### unique###\n",
    "ps5.Source.unique()"
   ]
  },
  {
   "cell_type": "code",
   "execution_count": 22,
   "metadata": {},
   "outputs": [],
   "source": [
    "#Get subjectivity\n",
    "def getSubjectivity(text):\n",
    "    return TextBlob(text).sentiment.subjectivity\n",
    "\n",
    "#Get Polarity\n",
    "def getPolarity(text):\n",
    "    return TextBlob(text).sentiment.polarity"
   ]
  },
  {
   "cell_type": "code",
   "execution_count": 23,
   "metadata": {},
   "outputs": [],
   "source": [
    "#Create two new columns\n",
    "ps5['Subjectivity']=ps5['Tweets_Cleaned'].apply(getSubjectivity)\n",
    "ps5['Polarity']=ps5['Tweets_Cleaned'].apply(getPolarity)"
   ]
  },
  {
   "cell_type": "code",
   "execution_count": 25,
   "metadata": {},
   "outputs": [],
   "source": [
    "def getAnalysis(score):\n",
    "    if score <0:\n",
    "        return 'Negative'\n",
    "    elif score==0:\n",
    "        return 'Neutral'\n",
    "    else:\n",
    "        return 'Positive'\n",
    "ps5['Sentiment']=ps5['Polarity'].apply(getAnalysis)"
   ]
  },
  {
   "cell_type": "code",
   "execution_count": 26,
   "metadata": {},
   "outputs": [
    {
     "data": {
      "text/plain": [
       "array([1337594276696481792, 1337577935000268802, 1337569105604472832,\n",
       "       1337525576140255232, 1337522102421766145, 1337506945909944321,\n",
       "       1337495873144549381, 1337486493045071873, 1337485931717275648,\n",
       "       1337481678038597633, 1337466692851687425, 1337466684349632512,\n",
       "       1337451295914020865, 1337451016652992512, 1337446799678771201,\n",
       "       1337429950090055682, 1337412226496540673, 1337381887346667524,\n",
       "       1337227949422989312, 1337226553630076931, 1337219625277399040,\n",
       "       1337218401744408579, 1337216905225138184, 1337215998055821312,\n",
       "       1337212860108132352, 1337211518086238209, 1337206800563712000,\n",
       "       1337206034817904640, 1337205334352556033, 1337199981611118597,\n",
       "       1337198564557148160, 1337195360779956225, 1337192695509508097,\n",
       "       1337185087843160065, 1337183678670188545, 1337177851687264256,\n",
       "       1337143068667990016, 1337133489817346049, 1337132174680551424,\n",
       "       1337080919434297344, 1336901740516364290, 1336856667082944512,\n",
       "       1336807882600423426, 1336764381900791813, 1336737626662047745,\n",
       "       1336736374527934464, 1336687693288398850, 1336672357415604225,\n",
       "       1336514409980715008, 1336503841173467136, 1336463822459179008,\n",
       "       1336450995451289603, 1336445531833262083, 1336422951223242756,\n",
       "       1336411062237712384, 1336392855087157251, 1336362431405301762,\n",
       "       1336355077519532035, 1336339990205394945, 1336332215119093762,\n",
       "       1336331307412963328, 1336325528538599426, 1336317108234293248,\n",
       "       1336313741760225282, 1336113284890701824, 1336085831937875968,\n",
       "       1336033895481950209, 1336029563705442305, 1336006842917384192,\n",
       "       1335992585563869184, 1335954878368276481, 1335765974327291904,\n",
       "       1335709608707579907, 1335680712675090433, 1335637759260672000,\n",
       "       1335612743232057345, 1335408293758513152, 1335351093694525441,\n",
       "       1335316260788178945, 1335287404501098500, 1335270969271869449,\n",
       "       1335258890322272256, 1335074673596502016, 1335041224093392896,\n",
       "       1335024242660765699, 1335018451727863811, 1334999171502206976,\n",
       "       1334990725046386688, 1334979755083350016, 1334949550696529920,\n",
       "       1334936005640675328, 1334920787321610245, 1334920505351163905,\n",
       "       1334912962952376320, 1334905815224999936, 1334891715409432581,\n",
       "       1334875210961530882, 1334696434143285249, 1334655171679293440,\n",
       "       1334650229157715968, 1334648952243671040, 1334614638059610112,\n",
       "       1334566319509921799, 1334549516947779584, 1334543123947659265,\n",
       "       1334517659422117890, 1334508941804359680, 1334507002740023296,\n",
       "       1334497765687234560, 1334362562729705473, 1334253121774604288,\n",
       "       1334215376981299200, 1334210728602054658, 1334173115908300800,\n",
       "       1334120319494332417, 1333906759157616640, 1333897853345751040,\n",
       "       1333840813659463683, 1333833375417823238, 1333825692442779648,\n",
       "       1333820829604458502, 1333820718644072455, 1333818459294224387,\n",
       "       1333805696991842304, 1333803295756849165, 1333780598989746176,\n",
       "       1333712915883548678, 1333550318479691778, 1333516180150247425,\n",
       "       1333505831602692101, 1333477395186200576, 1333463301645340684,\n",
       "       1333457448133246977, 1333455889739739136, 1333440869446377475,\n",
       "       1333177669198909441, 1333145216124026880, 1333113506233790465,\n",
       "       1333097138520088577, 1332816791232344064, 1332805984113233920,\n",
       "       1332779294167281664, 1332738527231156228, 1332720917051551746,\n",
       "       1332436535661178888, 1332419422984826880, 1332388732746469376,\n",
       "       1332369861788508165, 1332369016057438208, 1332353497921179649,\n",
       "       1332202750084608000, 1332093525584965634, 1332038174433042439,\n",
       "       1332021306842296321, 1331798335372537861, 1331768135821701120,\n",
       "       1331750296968597505, 1331727362841485312, 1331709756487118849,\n",
       "       1331703777162715136, 1331679090596745216, 1331664775210668032,\n",
       "       1331653316858712064, 1331636577127305219, 1331613807521767427,\n",
       "       1331598986755629057, 1331583421668319234, 1331402222291230720,\n",
       "       1331384328341712898, 1331357956034629633, 1331343359143682048,\n",
       "       1331305092650332160, 1331289001844756480, 1331281882059857926,\n",
       "       1331270145369645056, 1331266414297100288, 1331256578520068096,\n",
       "       1331251602292940802, 1331247450535784450, 1331244052201803796,\n",
       "       1331236351040172033, 1331060719962480640, 1331039832861253632,\n",
       "       1331026108662181890, 1330955396106784770, 1330919145215569924,\n",
       "       1330904581258276873, 1330622338182864902, 1330594398581772288,\n",
       "       1330568728258383872, 1330547089097551874, 1330315058795188225,\n",
       "       1330259197766856705, 1330239561168007170, 1330230751225278464,\n",
       "       1330213135211524108, 1330198548240101377, 1329986144155672578,\n",
       "       1329975079455821833, 1329941954327560193], dtype=int64)"
      ]
     },
     "execution_count": 26,
     "metadata": {},
     "output_type": "execute_result"
    }
   ],
   "source": [
    "ps5.ID.unique()"
   ]
  },
  {
   "cell_type": "markdown",
   "metadata": {},
   "source": [
    "#  Putting the data into mysql"
   ]
  },
  {
   "cell_type": "code",
   "execution_count": 29,
   "metadata": {},
   "outputs": [],
   "source": [
    "mydb=mysql.connector.connect(\n",
    "    host=\"localhost\",\n",
    "    user='root',\n",
    "    password=\"password\",\n",
    "    database=\"Project6\")"
   ]
  },
  {
   "cell_type": "code",
   "execution_count": 30,
   "metadata": {},
   "outputs": [],
   "source": [
    "my_cursor = mydb.cursor()"
   ]
  },
  {
   "cell_type": "code",
   "execution_count": 31,
   "metadata": {},
   "outputs": [],
   "source": [
    "my_cursor.execute(\"CREATE TABLE ps5_acc (id BIGINT , Date DATETIME, Likes INT,RTs INT, Source TEXT, Length INT, Tweets_Cleaned TEXT, Subjectivity FLOAT, Polarity FLOAT, Sentiment TEXT, primary key(id))\")"
   ]
  },
  {
   "cell_type": "code",
   "execution_count": 32,
   "metadata": {},
   "outputs": [],
   "source": [
    "def insertVariblesIntoTable(id, Date, Likes, RTs, Source, length, Tweets_Cleaned,Subjectivity,Polarity,Sentiment):\n",
    "    try:\n",
    "        connection = mysql.connector.connect(host=\"localhost\",\n",
    "                                                    user='root',\n",
    "                                                    password=\"password\",\n",
    "                                                    database=\"Project6\")\n",
    "        cursor = connection.cursor()\n",
    "        mySql_insert_query = \"\"\"INSERT INTO ps5_acc (id, Date,Likes, RTs, Source, length,Tweets_Cleaned,Subjectivity,Polarity,Sentiment) \n",
    "                                VALUES (%s, %s, %s, %s, %s, %s, %s, %s, %s,%s)\"\"\"\n",
    "\n",
    "        recordTuple = (id, Date,Likes, RTs, Source, length, Tweets_Cleaned,Subjectivity,Polarity,Sentiment)\n",
    "        cursor.execute(mySql_insert_query, recordTuple)\n",
    "        connection.commit()\n",
    "        print(\"Record inserted successfully into ps5_acc table\")\n",
    "\n",
    "    except mysql.connector.Error as error:\n",
    "        print(\"Failed to insert into MySQL table {}\".format(error))\n",
    "\n",
    "    finally:\n",
    "        if (connection.is_connected()):\n",
    "            cursor.close()\n",
    "            connection.close()\n",
    "            print(\"MySQL connection is closed\")"
   ]
  },
  {
   "cell_type": "code",
   "execution_count": 34,
   "metadata": {
    "scrolled": true
   },
   "outputs": [
    {
     "name": "stdout",
     "output_type": "stream",
     "text": [
      "Record inserted successfully into xbox_acc table\n",
      "MySQL connection is closed\n",
      "Record inserted successfully into xbox_acc table\n",
      "MySQL connection is closed\n",
      "Record inserted successfully into xbox_acc table\n",
      "MySQL connection is closed\n",
      "Record inserted successfully into xbox_acc table\n",
      "MySQL connection is closed\n",
      "Record inserted successfully into xbox_acc table\n",
      "MySQL connection is closed\n",
      "Record inserted successfully into xbox_acc table\n",
      "MySQL connection is closed\n",
      "Record inserted successfully into xbox_acc table\n",
      "MySQL connection is closed\n",
      "Record inserted successfully into xbox_acc table\n",
      "MySQL connection is closed\n",
      "Record inserted successfully into xbox_acc table\n",
      "MySQL connection is closed\n",
      "Record inserted successfully into xbox_acc table\n",
      "MySQL connection is closed\n",
      "Record inserted successfully into xbox_acc table\n",
      "MySQL connection is closed\n",
      "Record inserted successfully into xbox_acc table\n",
      "MySQL connection is closed\n",
      "Record inserted successfully into xbox_acc table\n",
      "MySQL connection is closed\n",
      "Record inserted successfully into xbox_acc table\n",
      "MySQL connection is closed\n",
      "Record inserted successfully into xbox_acc table\n",
      "MySQL connection is closed\n",
      "Record inserted successfully into xbox_acc table\n",
      "MySQL connection is closed\n",
      "Record inserted successfully into xbox_acc table\n",
      "MySQL connection is closed\n",
      "Record inserted successfully into xbox_acc table\n",
      "MySQL connection is closed\n",
      "Record inserted successfully into xbox_acc table\n",
      "MySQL connection is closed\n",
      "Record inserted successfully into xbox_acc table\n",
      "MySQL connection is closed\n",
      "Record inserted successfully into xbox_acc table\n",
      "MySQL connection is closed\n",
      "Record inserted successfully into xbox_acc table\n",
      "MySQL connection is closed\n",
      "Record inserted successfully into xbox_acc table\n",
      "MySQL connection is closed\n",
      "Record inserted successfully into xbox_acc table\n",
      "MySQL connection is closed\n",
      "Record inserted successfully into xbox_acc table\n",
      "MySQL connection is closed\n",
      "Record inserted successfully into xbox_acc table\n",
      "MySQL connection is closed\n",
      "Record inserted successfully into xbox_acc table\n",
      "MySQL connection is closed\n",
      "Record inserted successfully into xbox_acc table\n",
      "MySQL connection is closed\n",
      "Record inserted successfully into xbox_acc table\n",
      "MySQL connection is closed\n",
      "Record inserted successfully into xbox_acc table\n",
      "MySQL connection is closed\n",
      "Record inserted successfully into xbox_acc table\n",
      "MySQL connection is closed\n",
      "Record inserted successfully into xbox_acc table\n",
      "MySQL connection is closed\n",
      "Record inserted successfully into xbox_acc table\n",
      "MySQL connection is closed\n",
      "Record inserted successfully into xbox_acc table\n",
      "MySQL connection is closed\n",
      "Record inserted successfully into xbox_acc table\n",
      "MySQL connection is closed\n",
      "Record inserted successfully into xbox_acc table\n",
      "MySQL connection is closed\n",
      "Record inserted successfully into xbox_acc table\n",
      "MySQL connection is closed\n",
      "Record inserted successfully into xbox_acc table\n",
      "MySQL connection is closed\n",
      "Record inserted successfully into xbox_acc table\n",
      "MySQL connection is closed\n",
      "Record inserted successfully into xbox_acc table\n",
      "MySQL connection is closed\n",
      "Record inserted successfully into xbox_acc table\n",
      "MySQL connection is closed\n",
      "Record inserted successfully into xbox_acc table\n",
      "MySQL connection is closed\n",
      "Record inserted successfully into xbox_acc table\n",
      "MySQL connection is closed\n",
      "Record inserted successfully into xbox_acc table\n",
      "MySQL connection is closed\n",
      "Record inserted successfully into xbox_acc table\n",
      "MySQL connection is closed\n",
      "Record inserted successfully into xbox_acc table\n",
      "MySQL connection is closed\n",
      "Record inserted successfully into xbox_acc table\n",
      "MySQL connection is closed\n",
      "Record inserted successfully into xbox_acc table\n",
      "MySQL connection is closed\n",
      "Record inserted successfully into xbox_acc table\n",
      "MySQL connection is closed\n",
      "Record inserted successfully into xbox_acc table\n",
      "MySQL connection is closed\n",
      "Record inserted successfully into xbox_acc table\n",
      "MySQL connection is closed\n",
      "Record inserted successfully into xbox_acc table\n",
      "MySQL connection is closed\n",
      "Record inserted successfully into xbox_acc table\n",
      "MySQL connection is closed\n",
      "Record inserted successfully into xbox_acc table\n",
      "MySQL connection is closed\n",
      "Record inserted successfully into xbox_acc table\n",
      "MySQL connection is closed\n",
      "Record inserted successfully into xbox_acc table\n",
      "MySQL connection is closed\n",
      "Record inserted successfully into xbox_acc table\n",
      "MySQL connection is closed\n",
      "Record inserted successfully into xbox_acc table\n",
      "MySQL connection is closed\n",
      "Record inserted successfully into xbox_acc table\n",
      "MySQL connection is closed\n",
      "Record inserted successfully into xbox_acc table\n",
      "MySQL connection is closed\n",
      "Record inserted successfully into xbox_acc table\n",
      "MySQL connection is closed\n",
      "Record inserted successfully into xbox_acc table\n",
      "MySQL connection is closed\n",
      "Record inserted successfully into xbox_acc table\n",
      "MySQL connection is closed\n",
      "Record inserted successfully into xbox_acc table\n",
      "MySQL connection is closed\n",
      "Record inserted successfully into xbox_acc table\n",
      "MySQL connection is closed\n",
      "Record inserted successfully into xbox_acc table\n",
      "MySQL connection is closed\n",
      "Record inserted successfully into xbox_acc table\n",
      "MySQL connection is closed\n",
      "Record inserted successfully into xbox_acc table\n",
      "MySQL connection is closed\n",
      "Record inserted successfully into xbox_acc table\n",
      "MySQL connection is closed\n",
      "Record inserted successfully into xbox_acc table\n",
      "MySQL connection is closed\n",
      "Record inserted successfully into xbox_acc table\n",
      "MySQL connection is closed\n",
      "Record inserted successfully into xbox_acc table\n",
      "MySQL connection is closed\n",
      "Record inserted successfully into xbox_acc table\n",
      "MySQL connection is closed\n",
      "Record inserted successfully into xbox_acc table\n",
      "MySQL connection is closed\n",
      "Record inserted successfully into xbox_acc table\n",
      "MySQL connection is closed\n",
      "Record inserted successfully into xbox_acc table\n",
      "MySQL connection is closed\n",
      "Record inserted successfully into xbox_acc table\n",
      "MySQL connection is closed\n",
      "Record inserted successfully into xbox_acc table\n",
      "MySQL connection is closed\n",
      "Record inserted successfully into xbox_acc table\n",
      "MySQL connection is closed\n",
      "Record inserted successfully into xbox_acc table\n",
      "MySQL connection is closed\n",
      "Record inserted successfully into xbox_acc table\n",
      "MySQL connection is closed\n",
      "Record inserted successfully into xbox_acc table\n",
      "MySQL connection is closed\n",
      "Record inserted successfully into xbox_acc table\n",
      "MySQL connection is closed\n",
      "Record inserted successfully into xbox_acc table\n",
      "MySQL connection is closed\n",
      "Record inserted successfully into xbox_acc table\n",
      "MySQL connection is closed\n",
      "Record inserted successfully into xbox_acc table\n",
      "MySQL connection is closed\n",
      "Record inserted successfully into xbox_acc table\n",
      "MySQL connection is closed\n",
      "Record inserted successfully into xbox_acc table\n",
      "MySQL connection is closed\n",
      "Record inserted successfully into xbox_acc table\n",
      "MySQL connection is closed\n",
      "Record inserted successfully into xbox_acc table\n",
      "MySQL connection is closed\n",
      "Record inserted successfully into xbox_acc table\n",
      "MySQL connection is closed\n",
      "Record inserted successfully into xbox_acc table\n",
      "MySQL connection is closed\n",
      "Record inserted successfully into xbox_acc table\n",
      "MySQL connection is closed\n",
      "Record inserted successfully into xbox_acc table\n",
      "MySQL connection is closed\n",
      "Record inserted successfully into xbox_acc table\n",
      "MySQL connection is closed\n",
      "Record inserted successfully into xbox_acc table\n",
      "MySQL connection is closed\n",
      "Record inserted successfully into xbox_acc table\n",
      "MySQL connection is closed\n",
      "Record inserted successfully into xbox_acc table\n",
      "MySQL connection is closed\n",
      "Record inserted successfully into xbox_acc table\n",
      "MySQL connection is closed\n",
      "Record inserted successfully into xbox_acc table\n",
      "MySQL connection is closed\n",
      "Record inserted successfully into xbox_acc table\n",
      "MySQL connection is closed\n",
      "Record inserted successfully into xbox_acc table\n",
      "MySQL connection is closed\n",
      "Record inserted successfully into xbox_acc table\n",
      "MySQL connection is closed\n",
      "Record inserted successfully into xbox_acc table\n",
      "MySQL connection is closed\n",
      "Record inserted successfully into xbox_acc table\n",
      "MySQL connection is closed\n",
      "Record inserted successfully into xbox_acc table\n",
      "MySQL connection is closed\n",
      "Record inserted successfully into xbox_acc table\n",
      "MySQL connection is closed\n",
      "Record inserted successfully into xbox_acc table\n",
      "MySQL connection is closed\n"
     ]
    },
    {
     "name": "stdout",
     "output_type": "stream",
     "text": [
      "Record inserted successfully into xbox_acc table\n",
      "MySQL connection is closed\n",
      "Record inserted successfully into xbox_acc table\n",
      "MySQL connection is closed\n",
      "Record inserted successfully into xbox_acc table\n",
      "MySQL connection is closed\n",
      "Record inserted successfully into xbox_acc table\n",
      "MySQL connection is closed\n",
      "Record inserted successfully into xbox_acc table\n",
      "MySQL connection is closed\n",
      "Record inserted successfully into xbox_acc table\n",
      "MySQL connection is closed\n",
      "Record inserted successfully into xbox_acc table\n",
      "MySQL connection is closed\n",
      "Record inserted successfully into xbox_acc table\n",
      "MySQL connection is closed\n",
      "Record inserted successfully into xbox_acc table\n",
      "MySQL connection is closed\n",
      "Record inserted successfully into xbox_acc table\n",
      "MySQL connection is closed\n",
      "Record inserted successfully into xbox_acc table\n",
      "MySQL connection is closed\n",
      "Record inserted successfully into xbox_acc table\n",
      "MySQL connection is closed\n",
      "Record inserted successfully into xbox_acc table\n",
      "MySQL connection is closed\n",
      "Record inserted successfully into xbox_acc table\n",
      "MySQL connection is closed\n",
      "Record inserted successfully into xbox_acc table\n",
      "MySQL connection is closed\n",
      "Record inserted successfully into xbox_acc table\n",
      "MySQL connection is closed\n",
      "Record inserted successfully into xbox_acc table\n",
      "MySQL connection is closed\n",
      "Record inserted successfully into xbox_acc table\n",
      "MySQL connection is closed\n",
      "Record inserted successfully into xbox_acc table\n",
      "MySQL connection is closed\n",
      "Record inserted successfully into xbox_acc table\n",
      "MySQL connection is closed\n",
      "Record inserted successfully into xbox_acc table\n",
      "MySQL connection is closed\n",
      "Record inserted successfully into xbox_acc table\n",
      "MySQL connection is closed\n",
      "Record inserted successfully into xbox_acc table\n",
      "MySQL connection is closed\n",
      "Record inserted successfully into xbox_acc table\n",
      "MySQL connection is closed\n",
      "Record inserted successfully into xbox_acc table\n",
      "MySQL connection is closed\n",
      "Record inserted successfully into xbox_acc table\n",
      "MySQL connection is closed\n",
      "Record inserted successfully into xbox_acc table\n",
      "MySQL connection is closed\n",
      "Record inserted successfully into xbox_acc table\n",
      "MySQL connection is closed\n",
      "Record inserted successfully into xbox_acc table\n",
      "MySQL connection is closed\n",
      "Record inserted successfully into xbox_acc table\n",
      "MySQL connection is closed\n",
      "Record inserted successfully into xbox_acc table\n",
      "MySQL connection is closed\n",
      "Record inserted successfully into xbox_acc table\n",
      "MySQL connection is closed\n",
      "Record inserted successfully into xbox_acc table\n",
      "MySQL connection is closed\n",
      "Record inserted successfully into xbox_acc table\n",
      "MySQL connection is closed\n",
      "Record inserted successfully into xbox_acc table\n",
      "MySQL connection is closed\n",
      "Record inserted successfully into xbox_acc table\n",
      "MySQL connection is closed\n",
      "Record inserted successfully into xbox_acc table\n",
      "MySQL connection is closed\n",
      "Record inserted successfully into xbox_acc table\n",
      "MySQL connection is closed\n",
      "Record inserted successfully into xbox_acc table\n",
      "MySQL connection is closed\n",
      "Record inserted successfully into xbox_acc table\n",
      "MySQL connection is closed\n",
      "Record inserted successfully into xbox_acc table\n",
      "MySQL connection is closed\n",
      "Record inserted successfully into xbox_acc table\n",
      "MySQL connection is closed\n",
      "Record inserted successfully into xbox_acc table\n",
      "MySQL connection is closed\n",
      "Record inserted successfully into xbox_acc table\n",
      "MySQL connection is closed\n",
      "Record inserted successfully into xbox_acc table\n",
      "MySQL connection is closed\n",
      "Record inserted successfully into xbox_acc table\n",
      "MySQL connection is closed\n",
      "Record inserted successfully into xbox_acc table\n",
      "MySQL connection is closed\n",
      "Record inserted successfully into xbox_acc table\n",
      "MySQL connection is closed\n",
      "Record inserted successfully into xbox_acc table\n",
      "MySQL connection is closed\n",
      "Record inserted successfully into xbox_acc table\n",
      "MySQL connection is closed\n",
      "Record inserted successfully into xbox_acc table\n",
      "MySQL connection is closed\n",
      "Record inserted successfully into xbox_acc table\n",
      "MySQL connection is closed\n",
      "Record inserted successfully into xbox_acc table\n",
      "MySQL connection is closed\n",
      "Record inserted successfully into xbox_acc table\n",
      "MySQL connection is closed\n",
      "Record inserted successfully into xbox_acc table\n",
      "MySQL connection is closed\n",
      "Record inserted successfully into xbox_acc table\n",
      "MySQL connection is closed\n",
      "Record inserted successfully into xbox_acc table\n",
      "MySQL connection is closed\n",
      "Record inserted successfully into xbox_acc table\n",
      "MySQL connection is closed\n",
      "Record inserted successfully into xbox_acc table\n",
      "MySQL connection is closed\n",
      "Record inserted successfully into xbox_acc table\n",
      "MySQL connection is closed\n",
      "Record inserted successfully into xbox_acc table\n",
      "MySQL connection is closed\n",
      "Record inserted successfully into xbox_acc table\n",
      "MySQL connection is closed\n",
      "Record inserted successfully into xbox_acc table\n",
      "MySQL connection is closed\n",
      "Record inserted successfully into xbox_acc table\n",
      "MySQL connection is closed\n",
      "Record inserted successfully into xbox_acc table\n",
      "MySQL connection is closed\n",
      "Record inserted successfully into xbox_acc table\n",
      "MySQL connection is closed\n",
      "Record inserted successfully into xbox_acc table\n",
      "MySQL connection is closed\n",
      "Record inserted successfully into xbox_acc table\n",
      "MySQL connection is closed\n",
      "Record inserted successfully into xbox_acc table\n",
      "MySQL connection is closed\n",
      "Record inserted successfully into xbox_acc table\n",
      "MySQL connection is closed\n",
      "Record inserted successfully into xbox_acc table\n",
      "MySQL connection is closed\n",
      "Record inserted successfully into xbox_acc table\n",
      "MySQL connection is closed\n",
      "Record inserted successfully into xbox_acc table\n",
      "MySQL connection is closed\n",
      "Record inserted successfully into xbox_acc table\n",
      "MySQL connection is closed\n",
      "Record inserted successfully into xbox_acc table\n",
      "MySQL connection is closed\n",
      "Record inserted successfully into xbox_acc table\n",
      "MySQL connection is closed\n",
      "Record inserted successfully into xbox_acc table\n",
      "MySQL connection is closed\n",
      "Record inserted successfully into xbox_acc table\n",
      "MySQL connection is closed\n",
      "Record inserted successfully into xbox_acc table\n",
      "MySQL connection is closed\n",
      "Record inserted successfully into xbox_acc table\n",
      "MySQL connection is closed\n",
      "Record inserted successfully into xbox_acc table\n",
      "MySQL connection is closed\n",
      "Record inserted successfully into xbox_acc table\n",
      "MySQL connection is closed\n",
      "Record inserted successfully into xbox_acc table\n",
      "MySQL connection is closed\n",
      "Record inserted successfully into xbox_acc table\n",
      "MySQL connection is closed\n",
      "Record inserted successfully into xbox_acc table\n",
      "MySQL connection is closed\n",
      "Record inserted successfully into xbox_acc table\n",
      "MySQL connection is closed\n",
      "Record inserted successfully into xbox_acc table\n",
      "MySQL connection is closed\n",
      "Record inserted successfully into xbox_acc table\n",
      "MySQL connection is closed\n",
      "Record inserted successfully into xbox_acc table\n",
      "MySQL connection is closed\n",
      "Record inserted successfully into xbox_acc table\n",
      "MySQL connection is closed\n",
      "Record inserted successfully into xbox_acc table\n",
      "MySQL connection is closed\n",
      "Record inserted successfully into xbox_acc table\n",
      "MySQL connection is closed\n"
     ]
    }
   ],
   "source": [
    "for i in range(len(ps5)):\n",
    "    insertVariblesIntoTable(int(ps5.loc[i,\"ID\"]),ps5.loc[i,\"Date\"], int(ps5.loc[i,\"Likes\"]), int(ps5.loc[i,\"RTs\"]),ps5.loc[i,\"Source\"], int(ps5.loc[i,\"Length\"]),ps5.loc[i,\"Tweets_Cleaned\"],ps5.loc[i,\"Subjectivity\"],ps5.loc[i,\"Polarity\"], ps5.loc[i,\"Sentiment\"])\n"
   ]
  },
  {
   "cell_type": "markdown",
   "metadata": {},
   "source": [
    "#  Sql queries will be found in the first code"
   ]
  },
  {
   "cell_type": "code",
   "execution_count": null,
   "metadata": {},
   "outputs": [],
   "source": []
  }
 ],
 "metadata": {
  "kernelspec": {
   "display_name": "Python 3",
   "language": "python",
   "name": "python3"
  },
  "language_info": {
   "codemirror_mode": {
    "name": "ipython",
    "version": 3
   },
   "file_extension": ".py",
   "mimetype": "text/x-python",
   "name": "python",
   "nbconvert_exporter": "python",
   "pygments_lexer": "ipython3",
   "version": "3.7.4"
  }
 },
 "nbformat": 4,
 "nbformat_minor": 2
}
