{
 "cells": [
  {
   "cell_type": "markdown",
   "metadata": {},
   "source": [
    "# RETRIEVING DATA FROM TWITTER"
   ]
  },
  {
   "cell_type": "code",
   "execution_count": 2,
   "metadata": {},
   "outputs": [],
   "source": [
    "# General:\n",
    "import tweepy           # To consume Twitter's API\n",
    "import pandas as pd     # To handle data\n",
    "import numpy as np      # For number computing\n",
    "\n",
    "# For plotting and visualization:\n",
    "from IPython.display import display\n",
    "import matplotlib.pyplot as plt\n",
    "import seaborn as sns\n",
    "from textblob import TextBlob\n",
    "import csv\n",
    "import mysql.connector\n",
    "\n",
    "from nltk import bigrams\n",
    "import networkx as nx\n",
    "\n",
    "from sqlalchemy import create_engine\n",
    "import pymysql"
   ]
  },
  {
   "cell_type": "code",
   "execution_count": null,
   "metadata": {},
   "outputs": [],
   "source": [
    "# Consume:\n",
    "CONSUMER_KEY    = 'iaW7mNbmXJNzK7H0lYp9w9lvl'\n",
    "CONSUMER_SECRET = '39od1VNgE1t8RKzddZjSUFMm9rcGBPcR5DSSjPAWNf5c7EE0K2'\n",
    "\n",
    "# Access:\n",
    "ACCESS_TOKEN  = '2933481336-lWtyqSrObN7fQFgN9yU6XDmiV4WOlayNoes741Z'\n",
    "ACCESS_SECRET = 'xgpKoz1Piphhu3DGznZjS5WBGLITyJ0IwKX6U1vVzWSHW'"
   ]
  },
  {
   "cell_type": "code",
   "execution_count": null,
   "metadata": {},
   "outputs": [],
   "source": [
    "# API's setup:\n",
    "def twitter_setup():\n",
    "    \"\"\"\n",
    "    Utility function to setup the Twitter's API\n",
    "    with our access keys provided.\n",
    "    \"\"\"\n",
    "    # Authentication and access using keys:\n",
    "    auth = tweepy.OAuthHandler(CONSUMER_KEY, CONSUMER_SECRET)\n",
    "    auth.set_access_token(ACCESS_TOKEN, ACCESS_SECRET)\n",
    "\n",
    "    # Return API with authentication:\n",
    "    api = tweepy.API(auth)\n",
    "    return api"
   ]
  },
  {
   "cell_type": "code",
   "execution_count": null,
   "metadata": {},
   "outputs": [],
   "source": [
    "# We create an extractor object:\n",
    "extractor = twitter_setup()\n",
    "\n",
    "# We create a tweet list as follows:\n",
    "tweets = extractor.user_timeline(screen_name=\"Xbox\", count=200)\n",
    "print(\"Number of tweets extracted: {}.\\n\".format(len(tweets)))"
   ]
  },
  {
   "cell_type": "code",
   "execution_count": null,
   "metadata": {},
   "outputs": [],
   "source": [
    "# We create a pandas dataframe as follows:\n",
    "data = pd.DataFrame(data=[tweet.text for tweet in tweets], columns=['Tweets'])\n",
    "\n",
    "# We display the first 10 elements of the dataframe:\n",
    "display(data.head(10))"
   ]
  },
  {
   "cell_type": "code",
   "execution_count": null,
   "metadata": {},
   "outputs": [],
   "source": [
    "data['len']  = np.array([len(tweet.text) for tweet in tweets])\n",
    "data['ID']   = np.array([tweet.id for tweet in tweets])\n",
    "data['Date'] = np.array([tweet.created_at for tweet in tweets])\n",
    "data['Source'] = np.array([tweet.source for tweet in tweets])\n",
    "data['Likes']  = np.array([tweet.favorite_count for tweet in tweets])\n",
    "data['RTs']    = np.array([tweet.retweet_count for tweet in tweets])"
   ]
  },
  {
   "cell_type": "markdown",
   "metadata": {},
   "source": [
    "#  CLEANING THE DATA AND ADDING NEW COLUMN"
   ]
  },
  {
   "cell_type": "code",
   "execution_count": 3,
   "metadata": {
    "collapsed": true
   },
   "outputs": [
    {
     "ename": "NameError",
     "evalue": "name 'tweet_text' is not defined",
     "output_type": "error",
     "traceback": [
      "\u001b[1;31m---------------------------------------------------------------------------\u001b[0m",
      "\u001b[1;31mNameError\u001b[0m                                 Traceback (most recent call last)",
      "\u001b[1;32m<ipython-input-3-c32054c19513>\u001b[0m in \u001b[0;36m<module>\u001b[1;34m\u001b[0m\n\u001b[0;32m      1\u001b[0m \u001b[1;31m### SAVING DF TO CSV FILE\u001b[0m\u001b[1;33m\u001b[0m\u001b[1;33m\u001b[0m\u001b[1;33m\u001b[0m\u001b[0m\n\u001b[1;32m----> 2\u001b[1;33m \u001b[0mtweet_text\u001b[0m\u001b[1;33m.\u001b[0m\u001b[0mto_csv\u001b[0m\u001b[1;33m(\u001b[0m\u001b[1;34m\"Xbox_series_x.csv\"\u001b[0m\u001b[1;33m,\u001b[0m\u001b[0mindex\u001b[0m\u001b[1;33m=\u001b[0m\u001b[1;32mFalse\u001b[0m\u001b[1;33m)\u001b[0m\u001b[1;33m\u001b[0m\u001b[1;33m\u001b[0m\u001b[0m\n\u001b[0m",
      "\u001b[1;31mNameError\u001b[0m: name 'tweet_text' is not defined"
     ]
    }
   ],
   "source": [
    "### SAVING DF TO CSV FILE\n",
    "data.to_csv(\"User_Xbox.csv\",index=False)"
   ]
  },
  {
   "cell_type": "code",
   "execution_count": 3,
   "metadata": {},
   "outputs": [
    {
     "name": "stdout",
     "output_type": "stream",
     "text": [
      "200\n"
     ]
    }
   ],
   "source": [
    "#Checking the length\n",
    "xbox = pd.read_csv (r'C:\\Users\\keven\\Desktop\\User_Xbox.csv')\n",
    "print(len(xbox))\n"
   ]
  },
  {
   "cell_type": "code",
   "execution_count": 4,
   "metadata": {},
   "outputs": [
    {
     "name": "stdout",
     "output_type": "stream",
     "text": [
      "<class 'pandas.core.frame.DataFrame'>\n",
      "RangeIndex: 200 entries, 0 to 199\n",
      "Data columns (total 7 columns):\n",
      "Tweets    200 non-null object\n",
      "len       200 non-null int64\n",
      "ID        200 non-null int64\n",
      "Date      200 non-null object\n",
      "Source    200 non-null object\n",
      "Likes     200 non-null int64\n",
      "RTs       200 non-null int64\n",
      "dtypes: int64(4), object(3)\n",
      "memory usage: 11.1+ KB\n"
     ]
    }
   ],
   "source": [
    "xbox.info()"
   ]
  },
  {
   "cell_type": "code",
   "execution_count": 5,
   "metadata": {},
   "outputs": [],
   "source": [
    "#Renaming the column for consistency basis\n",
    "xbox.rename(columns={'date': 'Date','likes':'Likes','source':'Source','len':'Length'}, inplace=True)"
   ]
  },
  {
   "cell_type": "code",
   "execution_count": 6,
   "metadata": {},
   "outputs": [
    {
     "name": "stdout",
     "output_type": "stream",
     "text": [
      "<class 'pandas.core.frame.DataFrame'>\n",
      "RangeIndex: 200 entries, 0 to 199\n",
      "Data columns (total 7 columns):\n",
      "Tweets    200 non-null object\n",
      "Length    200 non-null int64\n",
      "ID        200 non-null int64\n",
      "Date      200 non-null object\n",
      "Source    200 non-null object\n",
      "Likes     200 non-null int64\n",
      "RTs       200 non-null int64\n",
      "dtypes: int64(4), object(3)\n",
      "memory usage: 11.1+ KB\n"
     ]
    }
   ],
   "source": [
    "xbox.info()"
   ]
  },
  {
   "cell_type": "code",
   "execution_count": 7,
   "metadata": {},
   "outputs": [],
   "source": [
    "### DROPPIN ALL NAs AND DUPLICATES\n",
    "xbox.drop_duplicates(keep=False,inplace=True) \n"
   ]
  },
  {
   "cell_type": "code",
   "execution_count": 8,
   "metadata": {},
   "outputs": [
    {
     "name": "stdout",
     "output_type": "stream",
     "text": [
      "200\n"
     ]
    }
   ],
   "source": [
    "# No duplicate row\n",
    "print(len(xbox))"
   ]
  },
  {
   "cell_type": "code",
   "execution_count": 9,
   "metadata": {},
   "outputs": [
    {
     "name": "stdout",
     "output_type": "stream",
     "text": [
      "<class 'pandas.core.frame.DataFrame'>\n",
      "Int64Index: 200 entries, 0 to 199\n",
      "Data columns (total 7 columns):\n",
      "Tweets    200 non-null object\n",
      "Length    200 non-null int64\n",
      "ID        200 non-null int64\n",
      "Date      200 non-null object\n",
      "Source    200 non-null object\n",
      "Likes     200 non-null int64\n",
      "RTs       200 non-null int64\n",
      "dtypes: int64(4), object(3)\n",
      "memory usage: 12.5+ KB\n"
     ]
    }
   ],
   "source": [
    "#### location have a lot of missing values. lets take a deeper look####\n",
    "xbox.info()"
   ]
  },
  {
   "cell_type": "code",
   "execution_count": 11,
   "metadata": {},
   "outputs": [
    {
     "name": "stdout",
     "output_type": "stream",
     "text": [
      "                                              Tweets  Length  \\\n",
      "0  If you were busy playing Cyberpunk and missed ...     135   \n",
      "1  Better study up on the mantras of survival. Yo...     119   \n",
      "2  @HbroGaming We're very much looking forward to...      53   \n",
      "3  @iSentrixx That's so exciting, and those are s...      80   \n",
      "4     @Fiberyko What can we say, we love a good RPG.      46   \n",
      "\n",
      "                    ID                 Date               Source  Likes  RTs  \n",
      "0  1337585464048414721  2020-12-12 02:30:00      Twitter Web App   4147  240  \n",
      "1  1337577915857289217  2020-12-12 02:00:00      Twitter Web App   1047   32  \n",
      "2  1337572560213520392  2020-12-12 01:38:43  Sprinklr Publishing      3    0  \n",
      "3  1337572195216859137  2020-12-12 01:37:16  Sprinklr Publishing      2    0  \n",
      "4  1337571377524727811  2020-12-12 01:34:01  Sprinklr Publishing     17    0  \n"
     ]
    }
   ],
   "source": [
    "#Droppin nas\n",
    "xbox.dropna(inplace=True)\n",
    "print(xbox.head())"
   ]
  },
  {
   "cell_type": "code",
   "execution_count": 12,
   "metadata": {},
   "outputs": [
    {
     "name": "stdout",
     "output_type": "stream",
     "text": [
      "<class 'pandas.core.frame.DataFrame'>\n",
      "RangeIndex: 200 entries, 0 to 199\n",
      "Data columns (total 7 columns):\n",
      "Tweets    200 non-null object\n",
      "Length    200 non-null int64\n",
      "ID        200 non-null int64\n",
      "Date      200 non-null object\n",
      "Source    200 non-null object\n",
      "Likes     200 non-null int64\n",
      "RTs       200 non-null int64\n",
      "dtypes: int64(4), object(3)\n",
      "memory usage: 11.1+ KB\n"
     ]
    }
   ],
   "source": [
    "#Reindexing\n",
    "xbox.index = range(len(xbox))\n",
    "xbox.info()"
   ]
  },
  {
   "cell_type": "code",
   "execution_count": 13,
   "metadata": {},
   "outputs": [],
   "source": [
    "### CLEANING TWEETS FUNCTION ####\n",
    "import re\n",
    "def cleanTxt(text):\n",
    "    text= re.sub(r'@[A-Za-z0-9\\_]+','',text) #Removed @mentions\n",
    "    text= re.sub(r'#','',text)#Remove the '#' symbol\n",
    "    text= re.sub(r'RT[\\s]+','',text)#Remove retweets\n",
    "    text= re.sub(r'https?:\\/\\/\\S+','',text) #Remove links\n",
    "    text= re.sub(r'ps5','',text)\n",
    "    return text"
   ]
  },
  {
   "cell_type": "code",
   "execution_count": 15,
   "metadata": {},
   "outputs": [],
   "source": [
    "#### CREATING A NEW COLUMN WHERE THE CLEANED TWEETS ARE STORED ###\n",
    "xbox['Tweets_Cleaned'] = xbox['Tweets'].apply(cleanTxt)"
   ]
  },
  {
   "cell_type": "code",
   "execution_count": 16,
   "metadata": {},
   "outputs": [],
   "source": [
    "### Remove emojis \n",
    "def remove_emojis(data):\n",
    "    emoj = re.compile(\"[\"\n",
    "        u\"\\U0001F600-\\U0001F64F\"  # emoticons\n",
    "        u\"\\U0001F300-\\U0001F5FF\"  # symbols & pictographs\n",
    "        u\"\\U0001F680-\\U0001F6FF\"  # transport & map symbols\n",
    "        u\"\\U0001F1E0-\\U0001F1FF\"  # flags (iOS)\n",
    "        u\"\\U00002500-\\U00002BEF\"  # chinese char\n",
    "        u\"\\U00002702-\\U000027B0\"\n",
    "        u\"\\U00002702-\\U000027B0\"\n",
    "        u\"\\U000024C2-\\U0001F251\"\n",
    "        u\"\\U0001f926-\\U0001f937\"\n",
    "        u\"\\U00010000-\\U0010ffff\"\n",
    "        u\"\\u2640-\\u2642\" \n",
    "        u\"\\u2600-\\u2B55\"\n",
    "        u\"\\u200d\"\n",
    "        u\"\\u23cf\"\n",
    "        u\"\\u23e9\"\n",
    "        u\"\\u231a\"\n",
    "        u\"\\ufe0f\"  # dingbats\n",
    "        u\"\\u3030\"\n",
    "                      \"]+\", re.UNICODE)\n",
    "    return re.sub(emoj, '', data)\n"
   ]
  },
  {
   "cell_type": "code",
   "execution_count": 17,
   "metadata": {},
   "outputs": [],
   "source": [
    "### CREATING A LIST THAT CONTAINS ALL THE REMOVED EMOJIS\n",
    "list2=[]\n",
    "for i in xbox.Tweets_Cleaned:\n",
    "    list2.append(remove_emojis(i))"
   ]
  },
  {
   "cell_type": "code",
   "execution_count": 18,
   "metadata": {},
   "outputs": [],
   "source": [
    "### CLEANING THE TWEETS FROM EMOJIS\n",
    "for i in range(len(xbox)):\n",
    "    xbox.loc[[i],['Tweets_Cleaned']]= list2[i]"
   ]
  },
  {
   "cell_type": "code",
   "execution_count": 20,
   "metadata": {},
   "outputs": [],
   "source": [
    "### Cleaniing the unclead tweet\n",
    "xbox.drop(['Tweets'], axis=1, inplace=True)"
   ]
  },
  {
   "cell_type": "code",
   "execution_count": 21,
   "metadata": {},
   "outputs": [
    {
     "data": {
      "text/plain": [
       "array(['Twitter Web App', 'Sprinklr Publishing', 'Twitter Media Studio'],\n",
       "      dtype=object)"
      ]
     },
     "execution_count": 21,
     "metadata": {},
     "output_type": "execute_result"
    }
   ],
   "source": [
    "### unique###\n",
    "xbox.Source.unique()"
   ]
  },
  {
   "cell_type": "code",
   "execution_count": 22,
   "metadata": {},
   "outputs": [],
   "source": [
    "# Replacing not important ones by others\n",
    "list3=['ios','Android','Web App']\n",
    "\n",
    "for i in xbox.Source.unique():\n",
    "    if i not in list3:\n",
    "        xbox.replace(to_replace=i, value='Others',inplace=True)"
   ]
  },
  {
   "cell_type": "code",
   "execution_count": 24,
   "metadata": {},
   "outputs": [],
   "source": [
    "#Get subjectivity\n",
    "def getSubjectivity(text):\n",
    "    return TextBlob(text).sentiment.subjectivity\n",
    "\n",
    "#Get Polarity\n",
    "def getPolarity(text):\n",
    "    return TextBlob(text).sentiment.polarity"
   ]
  },
  {
   "cell_type": "code",
   "execution_count": 25,
   "metadata": {},
   "outputs": [],
   "source": [
    "#Create two new columns\n",
    "xbox['Subjectivity']=xbox['Tweets_Cleaned'].apply(getSubjectivity)\n",
    "xbox['Polarity']=xbox['Tweets_Cleaned'].apply(getPolarity)"
   ]
  },
  {
   "cell_type": "code",
   "execution_count": 26,
   "metadata": {},
   "outputs": [],
   "source": [
    "def getAnalysis(score):\n",
    "    if score <0:\n",
    "        return 'Negative'\n",
    "    elif score==0:\n",
    "        return 'Neutral'\n",
    "    else:\n",
    "        return 'Positive'\n",
    "xbox['Sentiment']=xbox['Polarity'].apply(getAnalysis)"
   ]
  },
  {
   "cell_type": "code",
   "execution_count": 33,
   "metadata": {
    "collapsed": true
   },
   "outputs": [
    {
     "data": {
      "text/plain": [
       "array([1337585464048414721, 1337577915857289217, 1337572560213520392,\n",
       "       1337572195216859137, 1337571377524727811, 1337570430756929537,\n",
       "       1337570171641360385, 1337568876268228608, 1337566527126552576,\n",
       "       1337562816757186560, 1337555264187166721, 1337547720706248705,\n",
       "       1337532616547831808, 1337529357854707714, 1337525324100358144,\n",
       "       1337525149663338498, 1337518475158446082, 1337517631440519172,\n",
       "       1337515313571753986, 1337511628636631042, 1337511568108638208,\n",
       "       1337502416904671232, 1337502198331285510, 1337494980131053571,\n",
       "       1337487482712027136, 1337481334772682752, 1337481090710315009,\n",
       "       1337480453016707076, 1337480040297209857, 1337479828396654592,\n",
       "       1337479044569370624, 1337478114318970880, 1337477177617604614,\n",
       "       1337476886524555268, 1337476693049667586, 1337476513936105479,\n",
       "       1337476328594022402, 1337472220407455754, 1337469131357102086,\n",
       "       1337465583315501056, 1337457772913364993, 1337457559318405120,\n",
       "       1337457027648548866, 1337442062698889216, 1337426983282647042,\n",
       "       1337250519031586816, 1337236015505944578, 1337234982213877762,\n",
       "       1337234022133420033, 1337232674860228608, 1337232672603693063,\n",
       "       1337231546214883328, 1337231417831395328, 1337229089061531648,\n",
       "       1337228052963713025, 1337227938186620934, 1337227872163999746,\n",
       "       1337227741008158720, 1337227648246767618, 1337227567443668992,\n",
       "       1337227173510438913, 1337227133651877890, 1337226897223163906,\n",
       "       1337226814364807171, 1337226668633550848, 1337226176834711552,\n",
       "       1337225551975735298, 1337224729686577157, 1337224713517600768,\n",
       "       1337223546448146432, 1337222833097859072, 1337222355878232067,\n",
       "       1337221261965987841, 1337220940611072001, 1337220761744916483,\n",
       "       1337218808319111168, 1337218588722094087, 1337218389840891905,\n",
       "       1337216799180550146, 1337215085647962114, 1337212697478266881,\n",
       "       1337211997268619265, 1337211801839136768, 1337210559498919936,\n",
       "       1337208771467038720, 1337206549677305859, 1337201439311974400,\n",
       "       1337200818144108544, 1337200571489660928, 1337200505601273857,\n",
       "       1337200336843526145, 1337199513589735424, 1337199464222777346,\n",
       "       1337199374099763200, 1337199201441214466, 1337198962676289536,\n",
       "       1337195975773925383, 1337195245516177408, 1337194878292406274,\n",
       "       1337194268985724928, 1337193179158728710, 1337192895275659264,\n",
       "       1337192047627939842, 1337191335300894722, 1337190796630642688,\n",
       "       1337190244895105026, 1337190050317025283, 1337187269564899330,\n",
       "       1337185359822729219, 1337184370025586690, 1337183123260444674,\n",
       "       1337182988266684418, 1337177777519296513, 1337176630545031172,\n",
       "       1337176090700341252, 1337171643123306496, 1337170440972693505,\n",
       "       1337164035427426305, 1337160762037559303, 1337155134841733121,\n",
       "       1337153969148350466, 1337153884431806467, 1337140031073349633,\n",
       "       1337138989762027520, 1337132560166469632, 1337124930715082753,\n",
       "       1337121970232684573, 1337119152721551365, 1337118911171588096,\n",
       "       1337118302603259909, 1337118207883309057, 1337118178984427520,\n",
       "       1337117447074156544, 1337115150701228039, 1337109832801734657,\n",
       "       1337105265179697154, 1337102364734582784, 1337102315438755841,\n",
       "       1337102142042148868, 1337102046923796481, 1337101944859537408,\n",
       "       1337101876823814147, 1337101109240991748, 1337101022637006851,\n",
       "       1337100906932867074, 1337100181700046849, 1337099439777996800,\n",
       "       1337098679245795328, 1337091760993021955, 1337079647230562304,\n",
       "       1336859394085150720, 1336844188726538242, 1336844049987366912,\n",
       "       1336843949382701056, 1336833854062129156, 1336830536430415872,\n",
       "       1336822757418524673, 1336821173661929474, 1336807209389453315,\n",
       "       1336804714936152066, 1336803236628598787, 1336792743599878145,\n",
       "       1336787084472950784, 1336786925227831303, 1336786795544064007,\n",
       "       1336786764841824259, 1336785600519802880, 1336785087824846848,\n",
       "       1336778220750958592, 1336778140270678022, 1336778064559284230,\n",
       "       1336777662803558401, 1336763059294117888, 1336762818977275904,\n",
       "       1336755118285463553, 1336750839470415874, 1336748581550776321,\n",
       "       1336747446932807681, 1336746916500148224, 1336745012290318344,\n",
       "       1336744934490181634, 1336743647170195459, 1336742692898877447,\n",
       "       1336741873583607809, 1336741079878672387, 1336740821622804480,\n",
       "       1336740685895045121, 1336740363579568129, 1336739935362174979,\n",
       "       1336739839459414018, 1336739309710405635, 1336739011482824705,\n",
       "       1336738879655845890, 1336738411475038209, 1336738267518160898,\n",
       "       1336737068026896388, 1336724886945812480, 1336722991682564097,\n",
       "       1336717243795861508, 1336702712251994112], dtype=int64)"
      ]
     },
     "execution_count": 33,
     "metadata": {},
     "output_type": "execute_result"
    }
   ],
   "source": [
    "xbox.ID.unique()"
   ]
  },
  {
   "cell_type": "markdown",
   "metadata": {},
   "source": [
    "#  Putting the data into mysql"
   ]
  },
  {
   "cell_type": "code",
   "execution_count": 29,
   "metadata": {},
   "outputs": [],
   "source": [
    "##### Creating a database #####\n",
    "mydb=mysql.connector.connect(\n",
    "    host=\"localhost\",\n",
    "    user='root',\n",
    "    password=\"password\")\n",
    "\n",
    "mycursor = mydb.cursor()\n",
    "\n"
   ]
  },
  {
   "cell_type": "code",
   "execution_count": 30,
   "metadata": {},
   "outputs": [],
   "source": [
    "mycursor.execute(\"CREATE DATABASE Project6\")"
   ]
  },
  {
   "cell_type": "code",
   "execution_count": 34,
   "metadata": {},
   "outputs": [
    {
     "name": "stdout",
     "output_type": "stream",
     "text": [
      "<class 'pandas.core.frame.DataFrame'>\n",
      "RangeIndex: 200 entries, 0 to 199\n",
      "Data columns (total 10 columns):\n",
      "Length            200 non-null int64\n",
      "ID                200 non-null int64\n",
      "Date              200 non-null object\n",
      "Source            200 non-null object\n",
      "Likes             200 non-null int64\n",
      "RTs               200 non-null int64\n",
      "Tweets_Cleaned    200 non-null object\n",
      "Subjectivity      200 non-null float64\n",
      "Polarity          200 non-null float64\n",
      "Sentiment         200 non-null object\n",
      "dtypes: float64(2), int64(4), object(4)\n",
      "memory usage: 15.8+ KB\n"
     ]
    }
   ],
   "source": [
    "xbox.info()"
   ]
  },
  {
   "cell_type": "code",
   "execution_count": 35,
   "metadata": {},
   "outputs": [],
   "source": [
    "mydb=mysql.connector.connect(\n",
    "    host=\"localhost\",\n",
    "    user='root',\n",
    "    password=\"password\",\n",
    "    database=\"Project6\")"
   ]
  },
  {
   "cell_type": "code",
   "execution_count": 37,
   "metadata": {},
   "outputs": [],
   "source": [
    "my_cursor = mydb.cursor()"
   ]
  },
  {
   "cell_type": "code",
   "execution_count": 38,
   "metadata": {},
   "outputs": [],
   "source": [
    "my_cursor.execute(\"CREATE TABLE xbox_acc (id BIGINT , Date DATETIME, Likes INT,RTs INT, Source TEXT, Length INT, Tweets_Cleaned TEXT, Subjectivity FLOAT, Polarity FLOAT, Sentiment TEXT, primary key(id))\")"
   ]
  },
  {
   "cell_type": "code",
   "execution_count": 42,
   "metadata": {},
   "outputs": [],
   "source": [
    "def insertVariblesIntoTable(id, Date, Likes, RTs, Source, length, Tweets_Cleaned,Subjectivity,Polarity,Sentiment):\n",
    "    try:\n",
    "        connection = mysql.connector.connect(host=\"localhost\",\n",
    "                                                    user='root',\n",
    "                                                    password=\"password\",\n",
    "                                                    database=\"Project6\")\n",
    "        cursor = connection.cursor()\n",
    "        mySql_insert_query = \"\"\"INSERT INTO xbox_acc (id, Date,Likes, RTs, Source, length,Tweets_Cleaned,Subjectivity,Polarity,Sentiment) \n",
    "                                VALUES (%s, %s, %s, %s, %s, %s, %s, %s, %s,%s)\"\"\"\n",
    "\n",
    "        recordTuple = (id, Date,Likes, RTs, Source, length, Tweets_Cleaned,Subjectivity,Polarity,Sentiment)\n",
    "        cursor.execute(mySql_insert_query, recordTuple)\n",
    "        connection.commit()\n",
    "        print(\"Record inserted successfully into xbox_acc table\")\n",
    "\n",
    "    except mysql.connector.Error as error:\n",
    "        print(\"Failed to insert into MySQL table {}\".format(error))\n",
    "\n",
    "    finally:\n",
    "        if (connection.is_connected()):\n",
    "            cursor.close()\n",
    "            connection.close()\n",
    "            print(\"MySQL connection is closed\")"
   ]
  },
  {
   "cell_type": "code",
   "execution_count": 43,
   "metadata": {
    "scrolled": true
   },
   "outputs": [
    {
     "name": "stdout",
     "output_type": "stream",
     "text": [
      "Record inserted successfully into xbox_acc table\n",
      "MySQL connection is closed\n",
      "Record inserted successfully into xbox_acc table\n",
      "MySQL connection is closed\n",
      "Record inserted successfully into xbox_acc table\n",
      "MySQL connection is closed\n",
      "Record inserted successfully into xbox_acc table\n",
      "MySQL connection is closed\n",
      "Record inserted successfully into xbox_acc table\n",
      "MySQL connection is closed\n",
      "Record inserted successfully into xbox_acc table\n",
      "MySQL connection is closed\n",
      "Record inserted successfully into xbox_acc table\n",
      "MySQL connection is closed\n",
      "Record inserted successfully into xbox_acc table\n",
      "MySQL connection is closed\n",
      "Record inserted successfully into xbox_acc table\n",
      "MySQL connection is closed\n",
      "Record inserted successfully into xbox_acc table\n",
      "MySQL connection is closed\n",
      "Record inserted successfully into xbox_acc table\n",
      "MySQL connection is closed\n",
      "Record inserted successfully into xbox_acc table\n",
      "MySQL connection is closed\n",
      "Record inserted successfully into xbox_acc table\n",
      "MySQL connection is closed\n",
      "Record inserted successfully into xbox_acc table\n",
      "MySQL connection is closed\n",
      "Record inserted successfully into xbox_acc table\n",
      "MySQL connection is closed\n",
      "Record inserted successfully into xbox_acc table\n",
      "MySQL connection is closed\n",
      "Record inserted successfully into xbox_acc table\n",
      "MySQL connection is closed\n",
      "Record inserted successfully into xbox_acc table\n",
      "MySQL connection is closed\n",
      "Record inserted successfully into xbox_acc table\n",
      "MySQL connection is closed\n",
      "Record inserted successfully into xbox_acc table\n",
      "MySQL connection is closed\n",
      "Record inserted successfully into xbox_acc table\n",
      "MySQL connection is closed\n",
      "Record inserted successfully into xbox_acc table\n",
      "MySQL connection is closed\n",
      "Record inserted successfully into xbox_acc table\n",
      "MySQL connection is closed\n",
      "Record inserted successfully into xbox_acc table\n",
      "MySQL connection is closed\n",
      "Record inserted successfully into xbox_acc table\n",
      "MySQL connection is closed\n",
      "Record inserted successfully into xbox_acc table\n",
      "MySQL connection is closed\n",
      "Record inserted successfully into xbox_acc table\n",
      "MySQL connection is closed\n",
      "Record inserted successfully into xbox_acc table\n",
      "MySQL connection is closed\n",
      "Record inserted successfully into xbox_acc table\n",
      "MySQL connection is closed\n",
      "Record inserted successfully into xbox_acc table\n",
      "MySQL connection is closed\n",
      "Record inserted successfully into xbox_acc table\n",
      "MySQL connection is closed\n",
      "Record inserted successfully into xbox_acc table\n",
      "MySQL connection is closed\n",
      "Record inserted successfully into xbox_acc table\n",
      "MySQL connection is closed\n",
      "Record inserted successfully into xbox_acc table\n",
      "MySQL connection is closed\n",
      "Record inserted successfully into xbox_acc table\n",
      "MySQL connection is closed\n",
      "Record inserted successfully into xbox_acc table\n",
      "MySQL connection is closed\n",
      "Record inserted successfully into xbox_acc table\n",
      "MySQL connection is closed\n",
      "Record inserted successfully into xbox_acc table\n",
      "MySQL connection is closed\n",
      "Record inserted successfully into xbox_acc table\n",
      "MySQL connection is closed\n",
      "Record inserted successfully into xbox_acc table\n",
      "MySQL connection is closed\n",
      "Record inserted successfully into xbox_acc table\n",
      "MySQL connection is closed\n",
      "Record inserted successfully into xbox_acc table\n",
      "MySQL connection is closed\n",
      "Record inserted successfully into xbox_acc table\n",
      "MySQL connection is closed\n",
      "Record inserted successfully into xbox_acc table\n",
      "MySQL connection is closed\n",
      "Record inserted successfully into xbox_acc table\n",
      "MySQL connection is closed\n",
      "Record inserted successfully into xbox_acc table\n",
      "MySQL connection is closed\n",
      "Record inserted successfully into xbox_acc table\n",
      "MySQL connection is closed\n",
      "Record inserted successfully into xbox_acc table\n",
      "MySQL connection is closed\n",
      "Record inserted successfully into xbox_acc table\n",
      "MySQL connection is closed\n",
      "Record inserted successfully into xbox_acc table\n",
      "MySQL connection is closed\n",
      "Record inserted successfully into xbox_acc table\n",
      "MySQL connection is closed\n",
      "Record inserted successfully into xbox_acc table\n",
      "MySQL connection is closed\n",
      "Record inserted successfully into xbox_acc table\n",
      "MySQL connection is closed\n",
      "Record inserted successfully into xbox_acc table\n",
      "MySQL connection is closed\n",
      "Record inserted successfully into xbox_acc table\n",
      "MySQL connection is closed\n",
      "Record inserted successfully into xbox_acc table\n",
      "MySQL connection is closed\n",
      "Record inserted successfully into xbox_acc table\n",
      "MySQL connection is closed\n",
      "Record inserted successfully into xbox_acc table\n",
      "MySQL connection is closed\n",
      "Record inserted successfully into xbox_acc table\n",
      "MySQL connection is closed\n",
      "Record inserted successfully into xbox_acc table\n",
      "MySQL connection is closed\n",
      "Record inserted successfully into xbox_acc table\n",
      "MySQL connection is closed\n",
      "Record inserted successfully into xbox_acc table\n",
      "MySQL connection is closed\n",
      "Record inserted successfully into xbox_acc table\n",
      "MySQL connection is closed\n",
      "Record inserted successfully into xbox_acc table\n",
      "MySQL connection is closed\n",
      "Record inserted successfully into xbox_acc table\n",
      "MySQL connection is closed\n",
      "Record inserted successfully into xbox_acc table\n",
      "MySQL connection is closed\n",
      "Record inserted successfully into xbox_acc table\n",
      "MySQL connection is closed\n",
      "Record inserted successfully into xbox_acc table\n",
      "MySQL connection is closed\n",
      "Record inserted successfully into xbox_acc table\n",
      "MySQL connection is closed\n",
      "Record inserted successfully into xbox_acc table\n",
      "MySQL connection is closed\n",
      "Record inserted successfully into xbox_acc table\n",
      "MySQL connection is closed\n",
      "Record inserted successfully into xbox_acc table\n",
      "MySQL connection is closed\n",
      "Record inserted successfully into xbox_acc table\n",
      "MySQL connection is closed\n",
      "Record inserted successfully into xbox_acc table\n",
      "MySQL connection is closed\n",
      "Record inserted successfully into xbox_acc table\n",
      "MySQL connection is closed\n",
      "Record inserted successfully into xbox_acc table\n",
      "MySQL connection is closed\n",
      "Record inserted successfully into xbox_acc table\n",
      "MySQL connection is closed\n",
      "Record inserted successfully into xbox_acc table\n",
      "MySQL connection is closed\n",
      "Record inserted successfully into xbox_acc table\n",
      "MySQL connection is closed\n",
      "Record inserted successfully into xbox_acc table\n",
      "MySQL connection is closed\n",
      "Record inserted successfully into xbox_acc table\n",
      "MySQL connection is closed\n",
      "Record inserted successfully into xbox_acc table\n",
      "MySQL connection is closed\n",
      "Record inserted successfully into xbox_acc table\n",
      "MySQL connection is closed\n",
      "Record inserted successfully into xbox_acc table\n",
      "MySQL connection is closed\n",
      "Record inserted successfully into xbox_acc table\n",
      "MySQL connection is closed\n",
      "Record inserted successfully into xbox_acc table\n",
      "MySQL connection is closed\n",
      "Record inserted successfully into xbox_acc table\n",
      "MySQL connection is closed\n",
      "Record inserted successfully into xbox_acc table\n",
      "MySQL connection is closed\n",
      "Record inserted successfully into xbox_acc table\n",
      "MySQL connection is closed\n",
      "Record inserted successfully into xbox_acc table\n",
      "MySQL connection is closed\n",
      "Record inserted successfully into xbox_acc table\n",
      "MySQL connection is closed\n",
      "Record inserted successfully into xbox_acc table\n",
      "MySQL connection is closed\n",
      "Record inserted successfully into xbox_acc table\n",
      "MySQL connection is closed\n",
      "Record inserted successfully into xbox_acc table\n",
      "MySQL connection is closed\n",
      "Record inserted successfully into xbox_acc table\n",
      "MySQL connection is closed\n",
      "Record inserted successfully into xbox_acc table\n",
      "MySQL connection is closed\n",
      "Record inserted successfully into xbox_acc table\n",
      "MySQL connection is closed\n",
      "Record inserted successfully into xbox_acc table\n",
      "MySQL connection is closed\n",
      "Record inserted successfully into xbox_acc table\n",
      "MySQL connection is closed\n",
      "Record inserted successfully into xbox_acc table\n",
      "MySQL connection is closed\n",
      "Record inserted successfully into xbox_acc table\n",
      "MySQL connection is closed\n",
      "Record inserted successfully into xbox_acc table\n",
      "MySQL connection is closed\n",
      "Record inserted successfully into xbox_acc table\n",
      "MySQL connection is closed\n",
      "Record inserted successfully into xbox_acc table\n",
      "MySQL connection is closed\n",
      "Record inserted successfully into xbox_acc table\n",
      "MySQL connection is closed\n",
      "Record inserted successfully into xbox_acc table\n",
      "MySQL connection is closed\n",
      "Record inserted successfully into xbox_acc table\n",
      "MySQL connection is closed\n",
      "Record inserted successfully into xbox_acc table\n",
      "MySQL connection is closed\n"
     ]
    },
    {
     "name": "stdout",
     "output_type": "stream",
     "text": [
      "Record inserted successfully into xbox_acc table\n",
      "MySQL connection is closed\n",
      "Record inserted successfully into xbox_acc table\n",
      "MySQL connection is closed\n",
      "Record inserted successfully into xbox_acc table\n",
      "MySQL connection is closed\n",
      "Record inserted successfully into xbox_acc table\n",
      "MySQL connection is closed\n",
      "Record inserted successfully into xbox_acc table\n",
      "MySQL connection is closed\n",
      "Record inserted successfully into xbox_acc table\n",
      "MySQL connection is closed\n",
      "Record inserted successfully into xbox_acc table\n",
      "MySQL connection is closed\n",
      "Record inserted successfully into xbox_acc table\n",
      "MySQL connection is closed\n",
      "Record inserted successfully into xbox_acc table\n",
      "MySQL connection is closed\n",
      "Record inserted successfully into xbox_acc table\n",
      "MySQL connection is closed\n",
      "Record inserted successfully into xbox_acc table\n",
      "MySQL connection is closed\n",
      "Record inserted successfully into xbox_acc table\n",
      "MySQL connection is closed\n",
      "Record inserted successfully into xbox_acc table\n",
      "MySQL connection is closed\n",
      "Record inserted successfully into xbox_acc table\n",
      "MySQL connection is closed\n",
      "Record inserted successfully into xbox_acc table\n",
      "MySQL connection is closed\n",
      "Record inserted successfully into xbox_acc table\n",
      "MySQL connection is closed\n",
      "Record inserted successfully into xbox_acc table\n",
      "MySQL connection is closed\n",
      "Record inserted successfully into xbox_acc table\n",
      "MySQL connection is closed\n",
      "Record inserted successfully into xbox_acc table\n",
      "MySQL connection is closed\n",
      "Record inserted successfully into xbox_acc table\n",
      "MySQL connection is closed\n",
      "Record inserted successfully into xbox_acc table\n",
      "MySQL connection is closed\n",
      "Record inserted successfully into xbox_acc table\n",
      "MySQL connection is closed\n",
      "Record inserted successfully into xbox_acc table\n",
      "MySQL connection is closed\n",
      "Record inserted successfully into xbox_acc table\n",
      "MySQL connection is closed\n",
      "Record inserted successfully into xbox_acc table\n",
      "MySQL connection is closed\n",
      "Record inserted successfully into xbox_acc table\n",
      "MySQL connection is closed\n",
      "Record inserted successfully into xbox_acc table\n",
      "MySQL connection is closed\n",
      "Record inserted successfully into xbox_acc table\n",
      "MySQL connection is closed\n",
      "Record inserted successfully into xbox_acc table\n",
      "MySQL connection is closed\n",
      "Record inserted successfully into xbox_acc table\n",
      "MySQL connection is closed\n",
      "Record inserted successfully into xbox_acc table\n",
      "MySQL connection is closed\n",
      "Record inserted successfully into xbox_acc table\n",
      "MySQL connection is closed\n",
      "Record inserted successfully into xbox_acc table\n",
      "MySQL connection is closed\n",
      "Record inserted successfully into xbox_acc table\n",
      "MySQL connection is closed\n",
      "Record inserted successfully into xbox_acc table\n",
      "MySQL connection is closed\n",
      "Record inserted successfully into xbox_acc table\n",
      "MySQL connection is closed\n",
      "Record inserted successfully into xbox_acc table\n",
      "MySQL connection is closed\n",
      "Record inserted successfully into xbox_acc table\n",
      "MySQL connection is closed\n",
      "Record inserted successfully into xbox_acc table\n",
      "MySQL connection is closed\n",
      "Record inserted successfully into xbox_acc table\n",
      "MySQL connection is closed\n",
      "Record inserted successfully into xbox_acc table\n",
      "MySQL connection is closed\n",
      "Record inserted successfully into xbox_acc table\n",
      "MySQL connection is closed\n",
      "Record inserted successfully into xbox_acc table\n",
      "MySQL connection is closed\n",
      "Record inserted successfully into xbox_acc table\n",
      "MySQL connection is closed\n",
      "Record inserted successfully into xbox_acc table\n",
      "MySQL connection is closed\n",
      "Record inserted successfully into xbox_acc table\n",
      "MySQL connection is closed\n",
      "Record inserted successfully into xbox_acc table\n",
      "MySQL connection is closed\n",
      "Record inserted successfully into xbox_acc table\n",
      "MySQL connection is closed\n",
      "Record inserted successfully into xbox_acc table\n",
      "MySQL connection is closed\n",
      "Record inserted successfully into xbox_acc table\n",
      "MySQL connection is closed\n",
      "Record inserted successfully into xbox_acc table\n",
      "MySQL connection is closed\n",
      "Record inserted successfully into xbox_acc table\n",
      "MySQL connection is closed\n",
      "Record inserted successfully into xbox_acc table\n",
      "MySQL connection is closed\n",
      "Record inserted successfully into xbox_acc table\n",
      "MySQL connection is closed\n",
      "Record inserted successfully into xbox_acc table\n",
      "MySQL connection is closed\n",
      "Record inserted successfully into xbox_acc table\n",
      "MySQL connection is closed\n",
      "Record inserted successfully into xbox_acc table\n",
      "MySQL connection is closed\n",
      "Record inserted successfully into xbox_acc table\n",
      "MySQL connection is closed\n",
      "Record inserted successfully into xbox_acc table\n",
      "MySQL connection is closed\n",
      "Record inserted successfully into xbox_acc table\n",
      "MySQL connection is closed\n",
      "Record inserted successfully into xbox_acc table\n",
      "MySQL connection is closed\n",
      "Record inserted successfully into xbox_acc table\n",
      "MySQL connection is closed\n",
      "Record inserted successfully into xbox_acc table\n",
      "MySQL connection is closed\n",
      "Record inserted successfully into xbox_acc table\n",
      "MySQL connection is closed\n",
      "Record inserted successfully into xbox_acc table\n",
      "MySQL connection is closed\n",
      "Record inserted successfully into xbox_acc table\n",
      "MySQL connection is closed\n",
      "Record inserted successfully into xbox_acc table\n",
      "MySQL connection is closed\n",
      "Record inserted successfully into xbox_acc table\n",
      "MySQL connection is closed\n",
      "Record inserted successfully into xbox_acc table\n",
      "MySQL connection is closed\n",
      "Record inserted successfully into xbox_acc table\n",
      "MySQL connection is closed\n",
      "Record inserted successfully into xbox_acc table\n",
      "MySQL connection is closed\n",
      "Record inserted successfully into xbox_acc table\n",
      "MySQL connection is closed\n",
      "Record inserted successfully into xbox_acc table\n",
      "MySQL connection is closed\n",
      "Record inserted successfully into xbox_acc table\n",
      "MySQL connection is closed\n",
      "Record inserted successfully into xbox_acc table\n",
      "MySQL connection is closed\n",
      "Record inserted successfully into xbox_acc table\n",
      "MySQL connection is closed\n",
      "Record inserted successfully into xbox_acc table\n",
      "MySQL connection is closed\n",
      "Record inserted successfully into xbox_acc table\n",
      "MySQL connection is closed\n",
      "Record inserted successfully into xbox_acc table\n",
      "MySQL connection is closed\n",
      "Record inserted successfully into xbox_acc table\n",
      "MySQL connection is closed\n",
      "Record inserted successfully into xbox_acc table\n",
      "MySQL connection is closed\n",
      "Record inserted successfully into xbox_acc table\n",
      "MySQL connection is closed\n",
      "Record inserted successfully into xbox_acc table\n",
      "MySQL connection is closed\n",
      "Record inserted successfully into xbox_acc table\n",
      "MySQL connection is closed\n",
      "Record inserted successfully into xbox_acc table\n",
      "MySQL connection is closed\n",
      "Record inserted successfully into xbox_acc table\n",
      "MySQL connection is closed\n",
      "Record inserted successfully into xbox_acc table\n",
      "MySQL connection is closed\n",
      "Record inserted successfully into xbox_acc table\n",
      "MySQL connection is closed\n",
      "Record inserted successfully into xbox_acc table\n",
      "MySQL connection is closed\n",
      "Record inserted successfully into xbox_acc table\n",
      "MySQL connection is closed\n",
      "Record inserted successfully into xbox_acc table\n",
      "MySQL connection is closed\n",
      "Record inserted successfully into xbox_acc table\n",
      "MySQL connection is closed\n"
     ]
    }
   ],
   "source": [
    "for i in range(len(xbox)):\n",
    "    insertVariblesIntoTable(int(xbox.loc[i,\"ID\"]),xbox.loc[i,\"Date\"], int(xbox.loc[i,\"Likes\"]), int(xbox.loc[i,\"RTs\"]),xbox.loc[i,\"Source\"], int(xbox.loc[i,\"Length\"]),xbox.loc[i,\"Tweets_Cleaned\"],xbox.loc[i,\"Subjectivity\"],xbox.loc[i,\"Polarity\"], xbox.loc[i,\"Sentiment\"])\n"
   ]
  },
  {
   "cell_type": "markdown",
   "metadata": {},
   "source": [
    "# SQL Queries can be found in the first python code"
   ]
  },
  {
   "cell_type": "code",
   "execution_count": null,
   "metadata": {},
   "outputs": [],
   "source": []
  }
 ],
 "metadata": {
  "kernelspec": {
   "display_name": "Python 3",
   "language": "python",
   "name": "python3"
  },
  "language_info": {
   "codemirror_mode": {
    "name": "ipython",
    "version": 3
   },
   "file_extension": ".py",
   "mimetype": "text/x-python",
   "name": "python",
   "nbconvert_exporter": "python",
   "pygments_lexer": "ipython3",
   "version": "3.7.4"
  }
 },
 "nbformat": 4,
 "nbformat_minor": 2
}
